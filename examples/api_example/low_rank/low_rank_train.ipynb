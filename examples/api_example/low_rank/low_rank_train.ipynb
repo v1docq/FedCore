{
 "cells": [
  {
   "cell_type": "markdown",
   "metadata": {},
   "source": [
    "# Efficient rank training"
   ]
  },
  {
   "cell_type": "markdown",
   "metadata": {},
   "source": [
    "Let's start with setting up the notebook. Skip it in case you have installed fedcore via pip and are able to import it"
   ]
  },
  {
   "cell_type": "code",
   "execution_count": 22,
   "metadata": {},
   "outputs": [
    {
     "data": {
      "text/plain": [
       "'/ptls-experiments/FedCore/examples'"
      ]
     },
     "execution_count": 22,
     "metadata": {},
     "output_type": "execute_result"
    }
   ],
   "source": [
    "import os \n",
    "os.getcwd()"
   ]
  },
  {
   "cell_type": "code",
   "execution_count": 23,
   "metadata": {},
   "outputs": [],
   "source": [
    "os.chdir('../..')"
   ]
  },
  {
   "cell_type": "code",
   "execution_count": 24,
   "metadata": {},
   "outputs": [],
   "source": [
    "# Older CUDA's version may not support expandable objects in CUDA malloc. This will fix it\n",
    "os.environ['PYTORCH_CUDA_ALLOC_CONF'] = \"\""
   ]
  },
  {
   "cell_type": "markdown",
   "metadata": {},
   "source": [
    "## Congiguration"
   ]
  },
  {
   "cell_type": "code",
   "execution_count": 25,
   "metadata": {},
   "outputs": [],
   "source": [
    "from fedcore.tools.example_utils import get_scenario_for_api\n",
    "from fedcore.api.main import FedCore\n",
    "from fedcore.api.utils.checkers_collection import ApiConfigCheck\n",
    "from fedcore.data.dataloader import load_data\n",
    "from fedcore.api.utils.evaluation import evaluate_original_model, evaluate_optimised_model\n",
    "from fedcore.repository.config_repository import DEFAULT_CLF_API_CONFIG\n",
    "\n",
    "DATASET = 'CIFAR10'\n",
    "DATASET_PARAMS = {'train_bs': 64,\n",
    "                  'val_bs': 100,\n",
    "                  'train_shuffle': True,\n",
    "                  'val_shuffle': False}\n",
    "METRIC_TO_OPTIMISE = ['accuracy', 'latency', 'throughput']\n",
    "initial_assumption = 'ResNet18'\n",
    "initial_assumption, learning_strategy = get_scenario_for_api('checkpoint', initial_assumption)\n",
    "\n",
    "USER_CONFIG = {'problem': 'classification',\n",
    "               'metric': METRIC_TO_OPTIMISE,\n",
    "               'initial_assumption': initial_assumption,\n",
    "               'pop_size': 1, # how many models to train in parallel\n",
    "               'timeout': 1.3, # how long optimization process runs (in minutes)\n",
    "               'learning_strategy': 'from_checkpoint', # whether we have pretrained model or not\n",
    "               'learning_strategy_params': dict(epochs=0,\n",
    "                                                learning_rate=0.0001,\n",
    "                                                loss='crossentropy',\n",
    "                                                custom_loss = [], # needs to rework BaseNN class\n",
    "                                                custom_learning_params=dict(use_early_stopping={'patience': 30,\n",
    "                                                                                                'maximise_task': False,\n",
    "                                                                                                'delta': 0.01})\n",
    "                                                ), # activates if basic pretrain is needed\n",
    "               'peft_strategy': 'low_rank', # the compression approach\n",
    "               'peft_strategy_params': dict(\n",
    "                   log_each=1, # how often to print train losses\n",
    "                   eval_each=5, # how often to evaluate model on validation dataset\n",
    "                   scheduler='one_cycle', # which lr scheduler to use\n",
    "                   epochs=10,\n",
    "                   loss='crossentropy',\n",
    "                   non_adaptive_threshold=0.2, # threshold for S-strategies\n",
    "                    custom_criterions = {'hoer': 0.5, 'orthogonal': 0.2}, # Addtional losses with their coefficients\n",
    "                   finetune_params={'epochs': 1,\n",
    "                                    \"learning_rate\": 0.0001,\n",
    "                                    'loss': 'crossentropy'} # parameters for finetuning model after rank pruning\n",
    "                ),\n",
    "               }\n",
    "\n",
    "# Initialization of API config\n",
    "api_config = ApiConfigCheck().update_config_with_kwargs(DEFAULT_CLF_API_CONFIG, **USER_CONFIG)"
   ]
  },
  {
   "cell_type": "markdown",
   "metadata": {},
   "source": [
    "## Start learning"
   ]
  },
  {
   "cell_type": "code",
   "execution_count": 26,
   "metadata": {},
   "outputs": [
    {
     "name": "stdout",
     "output_type": "stream",
     "text": [
      "Files already downloaded and verified\n",
      "Files already downloaded and verified\n",
      "Creating Dask Server\n",
      "Triggered OptimizerGen at 1 epoch.\n",
      "Triggered SchedulerRenewal at 1 epoch.\n"
     ]
    },
    {
     "name": "stderr",
     "output_type": "stream",
     "text": [
      "Batch #: 100%|██████████| 782/782 [00:45<00:00, 17.30it/s]"
     ]
    },
    {
     "name": "stdout",
     "output_type": "stream",
     "text": [
      "Triggered Evaluator at 1 epoch.\n"
     ]
    },
    {
     "name": "stderr",
     "output_type": "stream",
     "text": [
      "\n",
      "Batch #: 100%|██████████| 100/100 [00:01<00:00, 63.36it/s]"
     ]
    },
    {
     "name": "stdout",
     "output_type": "stream",
     "text": [
      "Triggered FitReport at 1 epoch.\n",
      "Train # epoch: 1, value: 7.273792279041027\n",
      "Valid # epoch: 1, value: 6.7633562088012695\n",
      "Including:\n",
      "\tCriterion `train_hoer_loss`: 5.835456371307373\n",
      "\tCriterion `val_hoer_loss`: 5.83475923538208\n",
      "\tCriterion `train_orthogonal_loss`: 0.0013179627712816\n",
      "\tCriterion `val_orthogonal_loss`: 0.0013199361274018884\n"
     ]
    },
    {
     "name": "stderr",
     "output_type": "stream",
     "text": [
      "\n"
     ]
    },
    {
     "name": "stdout",
     "output_type": "stream",
     "text": [
      "==============Truncate rank for each weight matrix=================\n",
      "After rank pruning left only 100.0 % of conv1 layer params\n",
      "After rank pruning left only 100.0 % of layer1.0.conv1 layer params\n",
      "After rank pruning left only 100.0 % of layer1.0.conv2 layer params\n",
      "After rank pruning left only 100.0 % of layer1.1.conv1 layer params\n",
      "After rank pruning left only 100.0 % of layer1.1.conv2 layer params\n",
      "After rank pruning left only 50.0 % of layer2.0.conv1 layer params\n",
      "After rank pruning left only 50.0 % of layer2.0.conv2 layer params\n",
      "After rank pruning left only 100.0 % of layer2.0.downsample.0 layer params\n",
      "After rank pruning left only 50.0 % of layer2.1.conv1 layer params\n",
      "After rank pruning left only 50.0 % of layer2.1.conv2 layer params\n",
      "After rank pruning left only 75.0 % of layer3.0.conv1 layer params\n",
      "After rank pruning left only 75.0 % of layer3.0.conv2 layer params\n",
      "After rank pruning left only 50.0 % of layer3.0.downsample.0 layer params\n",
      "After rank pruning left only 75.0 % of layer3.1.conv1 layer params\n",
      "After rank pruning left only 75.0 % of layer3.1.conv2 layer params\n",
      "After rank pruning left only 75.0 % of layer4.0.conv1 layer params\n",
      "After rank pruning left only 75.0 % of layer4.0.conv2 layer params\n",
      "After rank pruning left only 75.0 % of layer4.0.downsample.0 layer params\n",
      "After rank pruning left only 75.0 % of layer4.1.conv1 layer params\n",
      "After rank pruning left only 75.0 % of layer4.1.conv2 layer params\n",
      "After rank pruning left only 75.03223078271812 % of fc layer params\n",
      "==============Finetune truncated model=================\n",
      "Triggered OptimizerGen at 1 epoch.\n",
      "Triggered SchedulerRenewal at 1 epoch.\n",
      "Triggered OptimizerGen at 1 epoch.\n",
      "Triggered SchedulerRenewal at 1 epoch.\n"
     ]
    },
    {
     "name": "stderr",
     "output_type": "stream",
     "text": [
      "Batch #: 100%|██████████| 782/782 [00:21<00:00, 35.71it/s]"
     ]
    },
    {
     "name": "stdout",
     "output_type": "stream",
     "text": [
      "Triggered Evaluator at 1 epoch.\n"
     ]
    },
    {
     "name": "stderr",
     "output_type": "stream",
     "text": [
      "\n",
      "Batch #: 100%|██████████| 100/100 [00:01<00:00, 69.04it/s]"
     ]
    },
    {
     "name": "stdout",
     "output_type": "stream",
     "text": [
      "Triggered FitReport at 1 epoch.\n",
      "Train # epoch: 1, value: 0.733492976106951\n",
      "Valid # epoch: 1, value: 0.941818356513977\n",
      "Including:\n",
      "\tCriterion `train_hoer_loss`: 0.0\n",
      "\tCriterion `val_hoer_loss`: 0.0\n",
      "\tCriterion `train_orthogonal_loss`: 0.014547276310622692\n",
      "\tCriterion `val_orthogonal_loss`: 0.014539467170834541\n",
      "Triggered Evaluator at 1 epoch.\n"
     ]
    },
    {
     "name": "stderr",
     "output_type": "stream",
     "text": [
      "\n",
      "Batch #: 100%|██████████| 100/100 [00:01<00:00, 63.81it/s]\n"
     ]
    },
    {
     "name": "stdout",
     "output_type": "stream",
     "text": [
      "Triggered FitReport at 1 epoch.\n",
      "Train # epoch: 1, value: 0.733492976106951\n",
      "Valid # epoch: 1, value: 0.6429351568222046\n",
      "Including:\n",
      "\tCriterion `train_hoer_loss`: 0.0\n",
      "\tCriterion `val_hoer_loss`: 0.0\n",
      "\tCriterion `train_orthogonal_loss`: 0.014547276310622692\n",
      "\tCriterion `val_orthogonal_loss`: 0.014539467170834541\n",
      "==============After low rank truncation=================\n",
      "Params: 13.44 M => 11.69 M\n",
      "MACs: 0.00 G => 0.00 G\n",
      "Triggered OptimizerGen at 1 epoch.\n",
      "Triggered SchedulerRenewal at 1 epoch.\n"
     ]
    },
    {
     "name": "stderr",
     "output_type": "stream",
     "text": [
      "Batch #: 100%|██████████| 782/782 [00:41<00:00, 18.81it/s]\n"
     ]
    },
    {
     "name": "stdout",
     "output_type": "stream",
     "text": [
      "Triggered FitReport at 1 epoch.\n",
      "Train # epoch: 1, value: 6.316850726256895\n",
      "Including:\n",
      "\tCriterion `train_hoer_loss`: 5.103714466094971\n",
      "\tCriterion `train_orthogonal_loss`: 0.004544746596366167\n",
      "Triggered SchedulerRenewal at 2 epoch.\n"
     ]
    },
    {
     "name": "stderr",
     "output_type": "stream",
     "text": [
      "Batch #: 100%|██████████| 782/782 [00:43<00:00, 18.08it/s]\n"
     ]
    },
    {
     "name": "stdout",
     "output_type": "stream",
     "text": [
      "Triggered FitReport at 2 epoch.\n",
      "Train # epoch: 2, value: 5.36578170844661\n",
      "Including:\n",
      "\tCriterion `train_hoer_loss`: 4.387579441070557\n",
      "\tCriterion `train_orthogonal_loss`: 0.005620826967060566\n",
      "Triggered SchedulerRenewal at 3 epoch.\n"
     ]
    },
    {
     "name": "stderr",
     "output_type": "stream",
     "text": [
      "Batch #: 100%|██████████| 782/782 [00:42<00:00, 18.26it/s]\n"
     ]
    },
    {
     "name": "stdout",
     "output_type": "stream",
     "text": [
      "Triggered FitReport at 3 epoch.\n",
      "Train # epoch: 3, value: 4.764361601656355\n",
      "Including:\n",
      "\tCriterion `train_hoer_loss`: 3.9406425952911377\n",
      "\tCriterion `train_orthogonal_loss`: 0.008194840513169765\n",
      "Triggered SchedulerRenewal at 4 epoch.\n"
     ]
    },
    {
     "name": "stderr",
     "output_type": "stream",
     "text": [
      "Batch #: 100%|██████████| 782/782 [00:45<00:00, 17.01it/s]\n"
     ]
    },
    {
     "name": "stdout",
     "output_type": "stream",
     "text": [
      "Triggered FitReport at 4 epoch.\n",
      "Train # epoch: 4, value: 4.281845031187053\n",
      "Including:\n",
      "\tCriterion `train_hoer_loss`: 3.6321654319763184\n",
      "\tCriterion `train_orthogonal_loss`: 0.008937899954617023\n",
      "Triggered SchedulerRenewal at 5 epoch.\n"
     ]
    },
    {
     "name": "stderr",
     "output_type": "stream",
     "text": [
      "Batch #: 100%|██████████| 782/782 [00:45<00:00, 17.30it/s]"
     ]
    },
    {
     "name": "stdout",
     "output_type": "stream",
     "text": [
      "Triggered Evaluator at 5 epoch.\n"
     ]
    },
    {
     "name": "stderr",
     "output_type": "stream",
     "text": [
      "\n",
      "Batch #: 100%|██████████| 100/100 [00:01<00:00, 62.77it/s]\n"
     ]
    },
    {
     "name": "stdout",
     "output_type": "stream",
     "text": [
      "Triggered FitReport at 5 epoch.\n",
      "Train # epoch: 5, value: 3.935346496989355\n",
      "Valid # epoch: 5, value: 3.996588706970215\n",
      "Including:\n",
      "\tCriterion `train_hoer_loss`: 3.388068914413452\n",
      "\tCriterion `val_hoer_loss`: 3.387845754623413\n",
      "\tCriterion `train_orthogonal_loss`: 0.009525366127490997\n",
      "\tCriterion `val_orthogonal_loss`: 0.009528516791760921\n",
      "Triggered SchedulerRenewal at 6 epoch.\n"
     ]
    },
    {
     "name": "stderr",
     "output_type": "stream",
     "text": [
      "Batch #: 100%|█████████▉| 780/782 [00:32<00:00, 25.02it/s]"
     ]
    },
    {
     "name": "stdout",
     "output_type": "stream",
     "text": [
      "2025-03-24 13:41:46,382 - Failed to reconnect to scheduler after 30.00 seconds, closing client\n"
     ]
    },
    {
     "name": "stderr",
     "output_type": "stream",
     "text": [
      "Batch #: 100%|██████████| 782/782 [00:33<00:00, 23.53it/s]\n"
     ]
    },
    {
     "name": "stdout",
     "output_type": "stream",
     "text": [
      "Triggered FitReport at 6 epoch.\n",
      "Train # epoch: 6, value: 3.666601589573619\n",
      "Valid # epoch: 5, value: 3.996588706970215\n",
      "Including:\n",
      "\tCriterion `train_hoer_loss`: 3.1933863162994385\n",
      "\tCriterion `val_hoer_loss`: 3.387845754623413\n",
      "\tCriterion `train_orthogonal_loss`: 0.010820823721587658\n",
      "\tCriterion `val_orthogonal_loss`: 0.009528516791760921\n",
      "Triggered SchedulerRenewal at 7 epoch.\n"
     ]
    },
    {
     "name": "stderr",
     "output_type": "stream",
     "text": [
      "Batch #: 100%|██████████| 782/782 [00:29<00:00, 26.47it/s]\n"
     ]
    },
    {
     "name": "stdout",
     "output_type": "stream",
     "text": [
      "Triggered FitReport at 7 epoch.\n",
      "Train # epoch: 7, value: 3.4544218171892873\n",
      "Valid # epoch: 5, value: 3.996588706970215\n",
      "Including:\n",
      "\tCriterion `train_hoer_loss`: 3.0271987915039062\n",
      "\tCriterion `val_hoer_loss`: 3.387845754623413\n",
      "\tCriterion `train_orthogonal_loss`: 0.011851239949464798\n",
      "\tCriterion `val_orthogonal_loss`: 0.009528516791760921\n",
      "Triggered SchedulerRenewal at 8 epoch.\n"
     ]
    },
    {
     "name": "stderr",
     "output_type": "stream",
     "text": [
      "Batch #: 100%|██████████| 782/782 [00:28<00:00, 27.88it/s]\n"
     ]
    },
    {
     "name": "stdout",
     "output_type": "stream",
     "text": [
      "Triggered FitReport at 8 epoch.\n",
      "Train # epoch: 8, value: 3.3343742787075774\n",
      "Valid # epoch: 5, value: 3.996588706970215\n",
      "Including:\n",
      "\tCriterion `train_hoer_loss`: 2.8864057064056396\n",
      "\tCriterion `val_hoer_loss`: 3.387845754623413\n",
      "\tCriterion `train_orthogonal_loss`: 0.014533269219100475\n",
      "\tCriterion `val_orthogonal_loss`: 0.009528516791760921\n",
      "Triggered SchedulerRenewal at 9 epoch.\n"
     ]
    },
    {
     "name": "stderr",
     "output_type": "stream",
     "text": [
      "Batch #: 100%|██████████| 782/782 [00:26<00:00, 29.31it/s]\n"
     ]
    },
    {
     "name": "stdout",
     "output_type": "stream",
     "text": [
      "Triggered FitReport at 9 epoch.\n",
      "Train # epoch: 9, value: 3.1375955187756084\n",
      "Valid # epoch: 5, value: 3.996588706970215\n",
      "Including:\n",
      "\tCriterion `train_hoer_loss`: 2.772501230239868\n",
      "\tCriterion `val_hoer_loss`: 3.387845754623413\n",
      "\tCriterion `train_orthogonal_loss`: 0.01460874080657959\n",
      "\tCriterion `val_orthogonal_loss`: 0.009528516791760921\n",
      "Triggered SchedulerRenewal at 10 epoch.\n"
     ]
    },
    {
     "name": "stderr",
     "output_type": "stream",
     "text": [
      "Batch #: 100%|██████████| 782/782 [00:31<00:00, 24.77it/s]"
     ]
    },
    {
     "name": "stdout",
     "output_type": "stream",
     "text": [
      "Triggered Evaluator at 10 epoch.\n"
     ]
    },
    {
     "name": "stderr",
     "output_type": "stream",
     "text": [
      "\n",
      "Batch #: 100%|██████████| 100/100 [00:01<00:00, 64.73it/s]"
     ]
    },
    {
     "name": "stdout",
     "output_type": "stream",
     "text": [
      "Triggered FitReport at 10 epoch.\n",
      "Train # epoch: 10, value: 3.246570540815973\n",
      "Valid # epoch: 10, value: 3.3572332859039307\n",
      "Including:\n",
      "\tCriterion `train_hoer_loss`: 2.682718515396118\n",
      "\tCriterion `val_hoer_loss`: 2.682617664337158\n",
      "\tCriterion `train_orthogonal_loss`: 0.017831264063715935\n",
      "\tCriterion `val_orthogonal_loss`: 0.017845189198851585\n"
     ]
    },
    {
     "name": "stderr",
     "output_type": "stream",
     "text": [
      "\n"
     ]
    },
    {
     "name": "stdout",
     "output_type": "stream",
     "text": [
      "==============Truncate rank for each weight matrix=================\n",
      "After rank pruning left only 100.0 % of conv1 layer params\n",
      "After rank pruning left only 100.0 % of layer1.0.conv1 layer params\n",
      "After rank pruning left only 100.0 % of layer1.0.conv2 layer params\n",
      "After rank pruning left only 100.0 % of layer1.1.conv1 layer params\n",
      "After rank pruning left only 100.0 % of layer1.1.conv2 layer params\n",
      "After rank pruning left only 50.0 % of layer2.0.conv1 layer params\n",
      "After rank pruning left only 50.0 % of layer2.0.conv2 layer params\n",
      "After rank pruning left only 100.0 % of layer2.0.downsample.0 layer params\n",
      "After rank pruning left only 50.0 % of layer2.1.conv1 layer params\n",
      "After rank pruning left only 50.0 % of layer2.1.conv2 layer params\n",
      "After rank pruning left only 75.0 % of layer3.0.conv1 layer params\n",
      "After rank pruning left only 75.0 % of layer3.0.conv2 layer params\n",
      "After rank pruning left only 50.0 % of layer3.0.downsample.0 layer params\n",
      "After rank pruning left only 75.0 % of layer3.1.conv1 layer params\n",
      "After rank pruning left only 75.0 % of layer3.1.conv2 layer params\n",
      "After rank pruning left only 75.0 % of layer4.0.conv1 layer params\n",
      "After rank pruning left only 75.0 % of layer4.0.conv2 layer params\n",
      "After rank pruning left only 75.0 % of layer4.0.downsample.0 layer params\n",
      "After rank pruning left only 75.0 % of layer4.1.conv1 layer params\n",
      "After rank pruning left only 75.0 % of layer4.1.conv2 layer params\n",
      "After rank pruning left only 75.03223078271812 % of fc layer params\n",
      "==============Finetune truncated model=================\n",
      "Triggered OptimizerGen at 1 epoch.\n",
      "Triggered SchedulerRenewal at 1 epoch.\n",
      "Triggered OptimizerGen at 1 epoch.\n",
      "Triggered SchedulerRenewal at 1 epoch.\n"
     ]
    },
    {
     "name": "stderr",
     "output_type": "stream",
     "text": [
      "Batch #: 100%|██████████| 782/782 [00:17<00:00, 45.13it/s]\n"
     ]
    },
    {
     "name": "stdout",
     "output_type": "stream",
     "text": [
      "Triggered FitReport at 1 epoch.\n",
      "Train # epoch: 1, value: 1.007878284415473\n",
      "Valid # epoch: 10, value: 3.3572332859039307\n",
      "Including:\n",
      "\tCriterion `train_hoer_loss`: 0.0\n",
      "\tCriterion `val_hoer_loss`: 2.682617664337158\n",
      "\tCriterion `train_orthogonal_loss`: 0.1446092128753662\n",
      "\tCriterion `val_orthogonal_loss`: 0.017845189198851585\n",
      "Triggered FitReport at 1 epoch.\n",
      "Train # epoch: 1, value: 1.007878284415473\n",
      "Valid # epoch: 10, value: 3.3572332859039307\n",
      "Including:\n",
      "\tCriterion `train_hoer_loss`: 0.0\n",
      "\tCriterion `val_hoer_loss`: 2.682617664337158\n",
      "\tCriterion `train_orthogonal_loss`: 0.1446092128753662\n",
      "\tCriterion `val_orthogonal_loss`: 0.017845189198851585\n",
      "==============After low rank truncation=================\n",
      "Params: 13.44 M => 11.69 M\n",
      "MACs: 0.00 G => 0.00 G\n",
      "Triggered OptimizerGen at 1 epoch.\n",
      "Triggered SchedulerRenewal at 1 epoch.\n"
     ]
    },
    {
     "name": "stderr",
     "output_type": "stream",
     "text": [
      "Batch #: 100%|██████████| 782/782 [00:30<00:00, 25.99it/s]\n"
     ]
    },
    {
     "name": "stdout",
     "output_type": "stream",
     "text": [
      "Triggered FitReport at 1 epoch.\n",
      "Train # epoch: 1, value: 2.9766529591187187\n",
      "Including:\n",
      "\tCriterion `train_hoer_loss`: 2.599703788757324\n",
      "\tCriterion `train_orthogonal_loss`: 0.016561400145292282\n",
      "Triggered SchedulerRenewal at 2 epoch.\n"
     ]
    },
    {
     "name": "stderr",
     "output_type": "stream",
     "text": [
      "Batch #: 100%|██████████| 782/782 [00:33<00:00, 23.42it/s]\n"
     ]
    },
    {
     "name": "stdout",
     "output_type": "stream",
     "text": [
      "Triggered FitReport at 2 epoch.\n",
      "Train # epoch: 2, value: 2.8500059681475314\n",
      "Including:\n",
      "\tCriterion `train_hoer_loss`: 2.5225141048431396\n",
      "\tCriterion `train_orthogonal_loss`: 0.018443968147039413\n",
      "Triggered SchedulerRenewal at 3 epoch.\n"
     ]
    },
    {
     "name": "stderr",
     "output_type": "stream",
     "text": [
      "Batch #: 100%|██████████| 782/782 [00:34<00:00, 22.54it/s]\n"
     ]
    },
    {
     "name": "stdout",
     "output_type": "stream",
     "text": [
      "Triggered FitReport at 3 epoch.\n",
      "Train # epoch: 3, value: 2.7417937870830524\n",
      "Including:\n",
      "\tCriterion `train_hoer_loss`: 2.4564473628997803\n",
      "\tCriterion `train_orthogonal_loss`: 0.019507018849253654\n",
      "Triggered SchedulerRenewal at 4 epoch.\n"
     ]
    },
    {
     "name": "stderr",
     "output_type": "stream",
     "text": [
      "Batch #: 100%|██████████| 782/782 [00:32<00:00, 24.35it/s]\n"
     ]
    },
    {
     "name": "stdout",
     "output_type": "stream",
     "text": [
      "Triggered FitReport at 4 epoch.\n",
      "Train # epoch: 4, value: 2.618494696629322\n",
      "Including:\n",
      "\tCriterion `train_hoer_loss`: 2.391711950302124\n",
      "\tCriterion `train_orthogonal_loss`: 0.020174413919448853\n",
      "Triggered SchedulerRenewal at 5 epoch.\n"
     ]
    },
    {
     "name": "stderr",
     "output_type": "stream",
     "text": [
      "Batch #: 100%|██████████| 782/782 [00:30<00:00, 25.36it/s]"
     ]
    },
    {
     "name": "stdout",
     "output_type": "stream",
     "text": [
      "Triggered Evaluator at 5 epoch.\n"
     ]
    },
    {
     "name": "stderr",
     "output_type": "stream",
     "text": [
      "\n",
      "Batch #: 100%|██████████| 100/100 [00:01<00:00, 60.02it/s]\n"
     ]
    },
    {
     "name": "stdout",
     "output_type": "stream",
     "text": [
      "Triggered FitReport at 5 epoch.\n",
      "Train # epoch: 5, value: 2.593998151362095\n",
      "Valid # epoch: 5, value: 3.1650121212005615\n",
      "Including:\n",
      "\tCriterion `train_hoer_loss`: 2.333120107650757\n",
      "\tCriterion `val_hoer_loss`: 2.333142042160034\n",
      "\tCriterion `train_orthogonal_loss`: 0.022275250405073166\n",
      "\tCriterion `val_orthogonal_loss`: 0.022288622334599495\n",
      "Triggered SchedulerRenewal at 6 epoch.\n"
     ]
    },
    {
     "name": "stderr",
     "output_type": "stream",
     "text": [
      "Batch #: 100%|██████████| 782/782 [00:29<00:00, 26.20it/s]\n"
     ]
    },
    {
     "name": "stdout",
     "output_type": "stream",
     "text": [
      "Triggered FitReport at 6 epoch.\n",
      "Train # epoch: 6, value: 2.4951586378809743\n",
      "Valid # epoch: 5, value: 3.1650121212005615\n",
      "Including:\n",
      "\tCriterion `train_hoer_loss`: 2.277880907058716\n",
      "\tCriterion `val_hoer_loss`: 2.333142042160034\n",
      "\tCriterion `train_orthogonal_loss`: 0.022876515984535217\n",
      "\tCriterion `val_orthogonal_loss`: 0.022288622334599495\n",
      "Triggered SchedulerRenewal at 7 epoch.\n"
     ]
    },
    {
     "name": "stderr",
     "output_type": "stream",
     "text": [
      "Batch #: 100%|██████████| 782/782 [00:30<00:00, 25.94it/s]\n"
     ]
    },
    {
     "name": "stdout",
     "output_type": "stream",
     "text": [
      "Triggered FitReport at 7 epoch.\n",
      "Train # epoch: 7, value: 2.4177568669209393\n",
      "Valid # epoch: 5, value: 3.1650121212005615\n",
      "Including:\n",
      "\tCriterion `train_hoer_loss`: 2.2217540740966797\n",
      "\tCriterion `val_hoer_loss`: 2.333142042160034\n",
      "\tCriterion `train_orthogonal_loss`: 0.02384697087109089\n",
      "\tCriterion `val_orthogonal_loss`: 0.022288622334599495\n",
      "Triggered SchedulerRenewal at 8 epoch.\n"
     ]
    },
    {
     "name": "stderr",
     "output_type": "stream",
     "text": [
      "Batch #: 100%|██████████| 782/782 [00:27<00:00, 28.34it/s]\n"
     ]
    },
    {
     "name": "stdout",
     "output_type": "stream",
     "text": [
      "Triggered FitReport at 8 epoch.\n",
      "Train # epoch: 8, value: 2.3642440086130594\n",
      "Valid # epoch: 5, value: 3.1650121212005615\n",
      "Including:\n",
      "\tCriterion `train_hoer_loss`: 2.1696643829345703\n",
      "\tCriterion `val_hoer_loss`: 2.333142042160034\n",
      "\tCriterion `train_orthogonal_loss`: 0.02502591721713543\n",
      "\tCriterion `val_orthogonal_loss`: 0.022288622334599495\n",
      "Triggered SchedulerRenewal at 9 epoch.\n"
     ]
    },
    {
     "name": "stderr",
     "output_type": "stream",
     "text": [
      "Batch #: 100%|██████████| 782/782 [00:30<00:00, 26.03it/s]\n"
     ]
    },
    {
     "name": "stdout",
     "output_type": "stream",
     "text": [
      "Triggered FitReport at 9 epoch.\n",
      "Train # epoch: 9, value: 2.3160296834033467\n",
      "Valid # epoch: 5, value: 3.1650121212005615\n",
      "Including:\n",
      "\tCriterion `train_hoer_loss`: 2.120313882827759\n",
      "\tCriterion `val_hoer_loss`: 2.333142042160034\n",
      "\tCriterion `train_orthogonal_loss`: 0.026230989024043083\n",
      "\tCriterion `val_orthogonal_loss`: 0.022288622334599495\n",
      "Triggered SchedulerRenewal at 10 epoch.\n"
     ]
    },
    {
     "name": "stderr",
     "output_type": "stream",
     "text": [
      "Batch #: 100%|██████████| 782/782 [00:29<00:00, 26.51it/s]"
     ]
    },
    {
     "name": "stdout",
     "output_type": "stream",
     "text": [
      "Triggered Evaluator at 10 epoch.\n"
     ]
    },
    {
     "name": "stderr",
     "output_type": "stream",
     "text": [
      "\n",
      "Batch #: 100%|██████████| 100/100 [00:01<00:00, 57.53it/s]"
     ]
    },
    {
     "name": "stdout",
     "output_type": "stream",
     "text": [
      "Triggered FitReport at 10 epoch.\n",
      "Train # epoch: 10, value: 2.729780821849013\n",
      "Valid # epoch: 10, value: 2.838242530822754\n",
      "Including:\n",
      "\tCriterion `train_hoer_loss`: 2.0968384742736816\n",
      "\tCriterion `val_hoer_loss`: 2.096817970275879\n",
      "\tCriterion `train_orthogonal_loss`: 0.03219258412718773\n",
      "\tCriterion `val_orthogonal_loss`: 0.03218986466526985\n"
     ]
    },
    {
     "name": "stderr",
     "output_type": "stream",
     "text": [
      "\n"
     ]
    },
    {
     "name": "stdout",
     "output_type": "stream",
     "text": [
      "==============Truncate rank for each weight matrix=================\n",
      "After rank pruning left only 100.0 % of conv1 layer params\n",
      "After rank pruning left only 100.0 % of layer1.0.conv1 layer params\n",
      "After rank pruning left only 100.0 % of layer1.0.conv2 layer params\n",
      "After rank pruning left only 100.0 % of layer1.1.conv1 layer params\n",
      "After rank pruning left only 100.0 % of layer1.1.conv2 layer params\n",
      "After rank pruning left only 50.0 % of layer2.0.conv1 layer params\n",
      "After rank pruning left only 50.0 % of layer2.0.conv2 layer params\n",
      "After rank pruning left only 100.0 % of layer2.0.downsample.0 layer params\n",
      "After rank pruning left only 50.0 % of layer2.1.conv1 layer params\n",
      "After rank pruning left only 50.0 % of layer2.1.conv2 layer params\n",
      "After rank pruning left only 75.0 % of layer3.0.conv1 layer params\n",
      "After rank pruning left only 75.0 % of layer3.0.conv2 layer params\n",
      "After rank pruning left only 50.0 % of layer3.0.downsample.0 layer params\n",
      "After rank pruning left only 75.0 % of layer3.1.conv1 layer params\n",
      "After rank pruning left only 75.0 % of layer3.1.conv2 layer params\n",
      "After rank pruning left only 75.0 % of layer4.0.conv1 layer params\n",
      "After rank pruning left only 75.0 % of layer4.0.conv2 layer params\n",
      "After rank pruning left only 75.0 % of layer4.0.downsample.0 layer params\n",
      "After rank pruning left only 75.0 % of layer4.1.conv1 layer params\n",
      "After rank pruning left only 75.0 % of layer4.1.conv2 layer params\n",
      "After rank pruning left only 75.03223078271812 % of fc layer params\n",
      "==============Finetune truncated model=================\n",
      "Triggered OptimizerGen at 1 epoch.\n",
      "Triggered SchedulerRenewal at 1 epoch.\n",
      "Triggered OptimizerGen at 1 epoch.\n",
      "Triggered SchedulerRenewal at 1 epoch.\n"
     ]
    },
    {
     "name": "stderr",
     "output_type": "stream",
     "text": [
      "Batch #: 100%|██████████| 782/782 [00:21<00:00, 36.98it/s]\n"
     ]
    },
    {
     "name": "stdout",
     "output_type": "stream",
     "text": [
      "Triggered FitReport at 1 epoch.\n",
      "Train # epoch: 1, value: 1.4241080399974229\n",
      "Valid # epoch: 10, value: 2.838242530822754\n",
      "Including:\n",
      "\tCriterion `train_hoer_loss`: 0.0\n",
      "\tCriterion `val_hoer_loss`: 2.096817970275879\n",
      "\tCriterion `train_orthogonal_loss`: 0.28798818588256836\n",
      "\tCriterion `val_orthogonal_loss`: 0.03218986466526985\n",
      "Triggered FitReport at 1 epoch.\n",
      "Train # epoch: 1, value: 1.4241080399974229\n",
      "Valid # epoch: 10, value: 2.838242530822754\n",
      "Including:\n",
      "\tCriterion `train_hoer_loss`: 0.0\n",
      "\tCriterion `val_hoer_loss`: 2.096817970275879\n",
      "\tCriterion `train_orthogonal_loss`: 0.28798818588256836\n",
      "\tCriterion `val_orthogonal_loss`: 0.03218986466526985\n",
      "==============After low rank truncation=================\n",
      "Params: 13.44 M => 11.69 M\n",
      "MACs: 0.00 G => 0.00 G\n"
     ]
    }
   ],
   "source": [
    "# use built-in dataset loader or define your own\n",
    "input_data = load_data(DATASET)\n",
    "# initialize compressor instance\n",
    "fedcore_compressor = FedCore(**api_config)\n",
    "\n",
    "# if we have already got the compression pipeline, we may launch fitting without evolutionary search\n",
    "x = fedcore_compressor.fit_no_evo(input_data)\n",
    "\n",
    "# else we may run it like this:\n",
    "# fedcore_compressor.fit(input_data);"
   ]
  },
  {
   "cell_type": "code",
   "execution_count": 27,
   "metadata": {},
   "outputs": [],
   "source": [
    "opt_model = fedcore_compressor.optimised_model.model"
   ]
  }
 ],
 "metadata": {
  "kernelspec": {
   "display_name": "ptls-experiments-H-SwwRmK",
   "language": "python",
   "name": "python3"
  },
  "language_info": {
   "codemirror_mode": {
    "name": "ipython",
    "version": 3
   },
   "file_extension": ".py",
   "mimetype": "text/x-python",
   "name": "python",
   "nbconvert_exporter": "python",
   "pygments_lexer": "ipython3",
   "version": "3.8.10"
  }
 },
 "nbformat": 4,
 "nbformat_minor": 2
}
