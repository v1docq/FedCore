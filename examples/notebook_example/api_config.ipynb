{
 "cells": [
  {
   "cell_type": "code",
   "execution_count": null,
   "metadata": {},
   "outputs": [
    {
     "ename": "",
     "evalue": "",
     "output_type": "error",
     "traceback": [
      "\u001b[1;31mFailed to start the Kernel. \n",
      "\u001b[1;31mUnable to start Kernel '.venv (Python 3.10.0)' due to a timeout waiting for the ports to get used. \n",
      "\u001b[1;31mView Jupyter <a href='command:jupyter.viewOutput'>log</a> for further details."
     ]
    }
   ],
   "source": [
    "import os\n",
    "os.environ['PYTORCH_CUDA_ALLOC_CONF'] = \"\""
   ]
  },
  {
   "cell_type": "code",
   "execution_count": null,
   "metadata": {},
   "outputs": [],
   "source": [
    "from fedcore.tools.example_utils import get_scenario_for_api\n",
    "from fedcore.api.main import FedCore\n",
    "from fedcore.api.utils.checkers_collection import ApiConfigCheck\n",
    "from fedcore.data.dataloader import load_data\n",
    "from fedcore.api.utils.evaluation import evaluate_original_model, evaluate_optimised_model\n",
    "from fedcore.repository.config_repository import DEFAULT_CLF_API_CONFIG\n",
    "from torchvision.models import resnet18, ResNet18_Weights\n",
    "\n",
    "from fedcore.api.config_factory import ConfigFactory\n",
    "from fedcore.api.api_configs import (\n",
    "    APIConfigTemplate, DeviceConfigTemplate, AutoMLConfigTemplate,\n",
    "    LearningConfigTemplate, NeuralModelConfigTemplate, ComputeConfigTemplate, FedotConfigTemplate,\n",
    "    LowRankTemplate)\n",
    "\n",
    "initial_assumption = resnet18(ResNet18_Weights)\n",
    "\n",
    "DATASET = 'CIFAR10'\n",
    "DATASET_PARAMS = {'train_bs': 64,\n",
    "                  'val_bs': 100,\n",
    "                  'train_shuffle': True,\n",
    "                  'val_shuffle': False}\n",
    "\n",
    "METRIC_TO_OPTIMISE = ['accuracy', 'latency', 'throughput']\n",
    "\n",
    "\n",
    "APIConfig = ConfigFactory.from_template(\n",
    "    APIConfigTemplate(\n",
    "        None,\n",
    "        AutoMLConfigTemplate(\n",
    "            FedotConfigTemplate(\n",
    "            problem='classification',\n",
    "            pop_size=1,\n",
    "            timeout=1,\n",
    "            initial_assumption=initial_assumption\n",
    "            )\n",
    "        ),\n",
    "        LearningConfigTemplate(\n",
    "            criterion='cross_entropy',\n",
    "            learning_strategy='from_scratch',\n",
    "            peft_strategy='low_rank',\n",
    "            peft_strategy_params=LowRankTemplate(\n",
    "                epochs=1,\n",
    "                non_adaptive_threshold=0.1\n",
    "            ),\n",
    "        )\n",
    "    )\n",
    ")\n",
    "\n",
    "api_config = APIConfig() # Here we can update with kwargs"
   ]
  },
  {
   "cell_type": "code",
   "execution_count": null,
   "metadata": {},
   "outputs": [],
   "source": [
    "input_data = load_data(DATASET)\n",
    "fedcore_compressor = FedCore(api_config)\n",
    "fedcore_compressor.fit_no_evo(input_data);"
   ]
  }
 ],
 "metadata": {
  "kernelspec": {
   "display_name": ".venv",
   "language": "python",
   "name": "python3"
  },
  "language_info": {
   "name": "python",
   "version": "3.10.0"
  }
 },
 "nbformat": 4,
 "nbformat_minor": 2
}
